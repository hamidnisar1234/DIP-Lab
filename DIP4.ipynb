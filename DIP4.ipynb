{
 "cells": [
  {
   "cell_type": "markdown",
   "id": "2c2fa8ab-b2f6-405a-bee5-bf90655bddb9",
   "metadata": {},
   "source": [
    "Task 1\n"
   ]
  },
  {
   "cell_type": "code",
   "execution_count": 2,
   "id": "9dc94518-4978-4fb6-955c-b005d7b0a2d9",
   "metadata": {},
   "outputs": [],
   "source": [
    "import cv2\n",
    "import numpy as np\n",
    "image = cv2.imread('bahria.jpeg')\n",
    "bright_image = cv2.convertScaleAbs(image, beta=50)\n",
    "dark_image = cv2.convertScaleAbs(image, beta=-50)\n",
    "\n",
    "cv2.imshow('Bright Image', bright_image)\n",
    "cv2.imshow('Dark Image', dark_image)\n",
    "cv2.waitKey(0)\n",
    "cv2.destroyAllWindows()\n"
   ]
  },
  {
   "cell_type": "code",
   "execution_count": 11,
   "id": "9392d734-6892-412b-9221-a9592192abee",
   "metadata": {},
   "outputs": [],
   "source": [
    "alpha = 2.0  \n",
    "beta = 0   \n",
    "contrast_image = cv2.convertScaleAbs(image, alpha=alpha, beta=beta)\n",
    "cv2.imshow('Contrast Image', contrast_image)\n",
    "cv2.waitKey(0)\n",
    "cv2.destroyAllWindows()\n"
   ]
  },
  {
   "cell_type": "code",
   "execution_count": 13,
   "id": "2691e422-c426-4a77-a4aa-f44ea662c7b1",
   "metadata": {},
   "outputs": [],
   "source": [
    "gamma = 2.0\n",
    "gamma_corrected = np.array(255 * (image / 255) ** (1 / gamma), dtype = 'uint8')\n",
    "cv2.imshow('Gamma Corrected Image', gamma_corrected)\n",
    "cv2.waitKey(0)\n",
    "cv2.destroyAllWindows()\n"
   ]
  },
  {
   "cell_type": "code",
   "execution_count": 15,
   "id": "d33d5586-b2ce-4c68-9000-994e9145165f",
   "metadata": {},
   "outputs": [],
   "source": [
    "negative_image = 255 - image\n",
    "cv2.imshow('Negative Image', negative_image)\n",
    "cv2.waitKey(0)\n",
    "cv2.destroyAllWindows()\n"
   ]
  },
  {
   "cell_type": "markdown",
   "id": "14b767f1-9d55-49b2-a63a-51e322489940",
   "metadata": {},
   "source": [
    "Task 2\n"
   ]
  },
  {
   "cell_type": "code",
   "execution_count": 24,
   "id": "5dd7d75d-3d2b-4a87-8ffc-ad7ba63cf62c",
   "metadata": {},
   "outputs": [],
   "source": [
    "# Addition: Brightens the image by adding 50 to each pixel value\n",
    "added_image = cv2.add(image, np.ones(image.shape, dtype='uint8') * 50)\n",
    "cv2.imshow('Added Image', added_image)\n",
    "cv2.waitKey(0)\n",
    "\n",
    "# Subtraction: Darkens the image by subtracting 50 from each pixel value\n",
    "subtracted_image = cv2.subtract(image, np.ones(image.shape, dtype='uint8') * 50)\n",
    "cv2.imshow('Subtracted Image', subtracted_image)\n",
    "cv2.waitKey(0)\n",
    "\n",
    "# Multiplication: Increases the intensity by multiplying pixel values by 2\n",
    "multiplied_image = cv2.multiply(image, np.array([2.0]))\n",
    "cv2.imshow('Multiplied Image', multiplied_image)\n",
    "cv2.waitKey(0)\n",
    "\n",
    "# Division: Decreases the intensity by dividing pixel values by 2\n",
    "divided_image = cv2.divide(image, np.array([2.0]))\n",
    "cv2.imshow('Divided Image', divided_image)\n",
    "cv2.waitKey(0)\n",
    "\n",
    "cv2.destroyAllWindows()"
   ]
  },
  {
   "cell_type": "markdown",
   "id": "5b99dda1-f5a0-4820-8bb4-57fb79618f3e",
   "metadata": {},
   "source": [
    "Task 3\n"
   ]
  },
  {
   "cell_type": "code",
   "execution_count": 21,
   "id": "86752219-a434-4d7a-9960-afe7c119e617",
   "metadata": {},
   "outputs": [],
   "source": [
    "import cv2\n",
    "import numpy as np\n",
    "foreground = cv2.imread('bahria.jpeg')\n",
    "background = cv2.imread('binary.jpeg')\n",
    "hsv = cv2.cvtColor(foreground, cv2.COLOR_BGR2HSV)\n",
    "lower_green = np.array([35, 100, 100])\n",
    "upper_green = np.array([85, 255, 255])\n",
    "mask = cv2.inRange(hsv, lower_green, upper_green)\n",
    "mask_inv = cv2.bitwise_not(mask)\n",
    "fg_part = cv2.bitwise_and(foreground, foreground, mask=mask_inv)\n",
    "bg_part = cv2.bitwise_and(background, background, mask=mask)\n",
    "final_image = cv2.add(fg_part, bg_part)\n",
    "cv2.imshow('Final Image', final_image)\n",
    "cv2.waitKey(0)\n",
    "cv2.destroyAllWindows()\n"
   ]
  },
  {
   "cell_type": "markdown",
   "id": "a2a8626e-79e7-4fe8-9adc-f7df243947fc",
   "metadata": {},
   "source": []
  },
  {
   "cell_type": "code",
   "execution_count": null,
   "id": "02cf5d4e-e68b-4296-9fc3-df03637f0763",
   "metadata": {},
   "outputs": [],
   "source": []
  },
  {
   "cell_type": "code",
   "execution_count": null,
   "id": "51be62b2-b07e-4fcf-a35f-403182570dcf",
   "metadata": {},
   "outputs": [],
   "source": []
  }
 ],
 "metadata": {
  "kernelspec": {
   "display_name": "Python 3 (ipykernel)",
   "language": "python",
   "name": "python3"
  },
  "language_info": {
   "codemirror_mode": {
    "name": "ipython",
    "version": 3
   },
   "file_extension": ".py",
   "mimetype": "text/x-python",
   "name": "python",
   "nbconvert_exporter": "python",
   "pygments_lexer": "ipython3",
   "version": "3.11.7"
  }
 },
 "nbformat": 4,
 "nbformat_minor": 5
}
