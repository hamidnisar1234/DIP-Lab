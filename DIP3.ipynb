{
 "cells": [
  {
   "cell_type": "markdown",
   "id": "adbea864-eb30-4b12-bc4e-c7206e888650",
   "metadata": {},
   "source": [
    "Task 1"
   ]
  },
  {
   "cell_type": "code",
   "execution_count": 4,
   "id": "2634352d-f8ca-4818-8b20-5f98376109e2",
   "metadata": {},
   "outputs": [
    {
     "name": "stdout",
     "output_type": "stream",
     "text": [
      "Dimensions: (225, 225), Channels: 3\n",
      "File Size: 5893 bytes\n",
      "Bit Depth: uint8\n",
      "Converted: [  0 246 255]\n"
     ]
    }
   ],
   "source": [
    "import cv2\n",
    "import os\n",
    "image = cv2.imread('bahria.jpeg')\n",
    "print(f\"Dimensions: {image.shape[:2]}, Channels: {image.shape[2]}\")\n",
    "print(f\"File Size: {os.path.getsize('bahria.jpeg')} bytes\")\n",
    "print(f\"Bit Depth: {image.dtype}\")\n",
    "import numpy as np\n",
    "double_array = np.array([256, -10, 255.5])\n",
    "converted = double_array.astype(np.uint8)\n",
    "print(f\"Converted: {converted}\")\n"
   ]
  },
  {
   "cell_type": "markdown",
   "id": "483a70ea-36d1-4f08-b004-3004968757b0",
   "metadata": {},
   "source": [
    "Task 2\n"
   ]
  },
  {
   "cell_type": "code",
   "execution_count": 9,
   "id": "e814a193-11a5-4632-bb4b-4253a14fad26",
   "metadata": {},
   "outputs": [],
   "source": [
    "import cv2\n",
    "image = cv2.imread('bahria.jpeg', cv2.IMREAD_GRAYSCALE)\n",
    "tv = 27\n",
    "bn= (image > tv) * 255\n",
    "cv2.imwrite(\"binary.jpeg\", bn)\n",
    "image2 = cv2.imread('binary.jpeg')\n",
    "cv2.imshow('Binarized', image2)\n",
    "cv2.waitKey(0)\n",
    "cv2.destroyAllWindows()\n"
   ]
  },
  {
   "cell_type": "markdown",
   "id": "755db7ee-68d8-4836-ab2a-65eef9b234ac",
   "metadata": {},
   "source": [
    "Task 3\n"
   ]
  },
  {
   "cell_type": "code",
   "execution_count": 22,
   "id": "c73f6243-e00c-47dc-9d8d-dcf902300e77",
   "metadata": {},
   "outputs": [
    {
     "name": "stdout",
     "output_type": "stream",
     "text": [
      "Three channel\n"
     ]
    }
   ],
   "source": [
    "import cv2\n",
    "image = cv2.imread('bahria.jpeg')\n",
    "if len(image.shape) == 3:\n",
    "    print(\"Three channel\")\n",
    "    tv = 127\n",
    "    bn= (image > tv) * 255\n",
    "    cv2.imwrite(\"binary.jpeg\", bn)\n",
    "    image2 = cv2.imread('binary.jpeg')\n",
    "    cv2.imshow('Binarized', image2)\n",
    "else:\n",
    "    print(\"One-channel\")\n",
    "    cv2.imshow('Image', image)\n",
    "\n",
    "cv2.waitKey(0)\n",
    "cv2.destroyAllWindows()\n"
   ]
  },
  {
   "cell_type": "markdown",
   "id": "43da9959-8d44-48f1-b800-19be38b8c49a",
   "metadata": {},
   "source": [
    "Task 4\n"
   ]
  },
  {
   "cell_type": "code",
   "execution_count": 27,
   "id": "5d078e65-fd88-4246-9bfa-1e03a5c42876",
   "metadata": {},
   "outputs": [],
   "source": [
    "import cv2\n",
    "image = cv2.imread('bahria.jpeg', cv2.IMREAD_GRAYSCALE)\n",
    "tv = 2\n",
    "bn= (image > tv) * 255\n",
    "cv2.imwrite(\"binary.jpeg\", bn)\n",
    "image2 = cv2.imread('binary.jpeg')\n",
    "cv2.imshow('Binarized', image2)\n",
    "cv2.waitKey(0)\n",
    "cv2.destroyAllWindows()\n"
   ]
  },
  {
   "cell_type": "markdown",
   "id": "9607e9f8-8cd3-4dd4-95e2-27ec059077aa",
   "metadata": {},
   "source": [
    "Task 5"
   ]
  },
  {
   "cell_type": "code",
   "execution_count": 30,
   "id": "2210c554-ef80-48f4-89f5-79d2390fd427",
   "metadata": {},
   "outputs": [],
   "source": [
    "import cv2\n",
    "cap = cv2.VideoCapture(0)\n",
    "\n",
    "while True:\n",
    "    ret, frame = cap.read()\n",
    "    gray = cv2.cvtColor(frame, cv2.COLOR_BGR2GRAY)\n",
    "    cv2.imshow('Grayscale', gray)\n",
    "    if cv2.waitKey(1) & 0xFF == ord('q'):\n",
    "        break\n",
    "\n",
    "cap.release()\n",
    "cv2.destroyAllWindows()\n"
   ]
  },
  {
   "cell_type": "code",
   "execution_count": null,
   "id": "1a47aa31-030a-4b83-ad86-f4f8f4c6ee64",
   "metadata": {},
   "outputs": [],
   "source": []
  }
 ],
 "metadata": {
  "kernelspec": {
   "display_name": "Python 3 (ipykernel)",
   "language": "python",
   "name": "python3"
  },
  "language_info": {
   "codemirror_mode": {
    "name": "ipython",
    "version": 3
   },
   "file_extension": ".py",
   "mimetype": "text/x-python",
   "name": "python",
   "nbconvert_exporter": "python",
   "pygments_lexer": "ipython3",
   "version": "3.11.7"
  }
 },
 "nbformat": 4,
 "nbformat_minor": 5
}
